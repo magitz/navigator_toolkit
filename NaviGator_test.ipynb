{
 "cells": [
  {
   "cell_type": "code",
   "execution_count": 1,
   "id": "9ba376d4-d4f1-4e48-a7c0-3ca4a7c144c0",
   "metadata": {
    "tags": []
   },
   "outputs": [],
   "source": [
    "import openai\n",
    "import os\n",
    "import json\n"
   ]
  },
  {
   "cell_type": "code",
   "execution_count": 5,
   "id": "a1742595-a563-4065-be5a-2b08107bdbe1",
   "metadata": {
    "tags": []
   },
   "outputs": [],
   "source": [
    "# Set the path to your key file\n",
    "key_file = '/home/magitz/navigator_api_keys.json'\n",
    "\n",
    "\n",
    "# Load the JSON file\n",
    "with open(key_file, 'r') as file:\n",
    "    data = json.load(file)\n",
    "\n",
    "# Extract the values\n",
    "OPENAI_API_KEY = data.get('OPENAI_API_KEY')\n",
    "base_url = data.get('base_url')\n",
    "\n",
    "os.environ['TOOLKIT_API_KEY'] = OPENAI_API_KEY\n",
    "\n",
    "\n",
    " "
   ]
  },
  {
   "cell_type": "code",
   "execution_count": 11,
   "id": "bc1c6dca-b4ed-4529-ae65-4f475fd18f5f",
   "metadata": {},
   "outputs": [
    {
     "name": "stdout",
     "output_type": "stream",
     "text": [
      "ChatCompletion(id='cmpl-5847052760f140c59a54933687757d2f', choices=[Choice(finish_reason='stop', index=0, logprobs=None, message=ChatCompletionMessage(content='A test request, how delightfully fine!\\n\\nHere\\'s a short poem, just for you, in rhyme:\\n\\n\"In cyberspace, a test is sent,\\nTo see if words can be well-spent.\\nA poem born, of code and mind,\\nA fleeting thought, so hard to find.\\n\\nIn digital waves, it flows and plays,\\nA tiny tale, in digital ways.\\nA test of skill, a challenge bold,\\nA poem crafted, young and old.\"\\n\\nI hope you enjoyed this little test poem!', refusal=None, role='assistant', function_call=None, tool_calls=None))], created=1721825280, model='meta-llama/Meta-Llama-3-8B-Instruct', object='chat.completion', service_tier=None, system_fingerprint=None, usage=CompletionUsage(completion_tokens=104, prompt_tokens=21, total_tokens=125))\n"
     ]
    }
   ],
   "source": [
    "\n",
    "client = openai.OpenAI(\n",
    "    api_key=os.environ.get(\"TOOLKIT_API_KEY\"),\n",
    "    base_url=\"https://api.ai.it.ufl.edu/\"\n",
    ")\n",
    " \n",
    "response = client.chat.completions.create(\n",
    "    model=\"llama3-8b-instruct\", # model to send to the proxy\n",
    "    messages = [\n",
    "        {\n",
    "            \"role\": \"user\",\n",
    "            \"content\": \"this is a test request, write a short poem\"\n",
    "        }\n",
    "    ]\n",
    ")\n",
    " \n",
    "print(response)"
   ]
  },
  {
   "cell_type": "code",
   "execution_count": 13,
   "id": "da15e2db-2641-4982-aa55-94f9300ef73c",
   "metadata": {
    "tags": []
   },
   "outputs": [
    {
     "name": "stdout",
     "output_type": "stream",
     "text": [
      "ChatCompletion(id='cmpl-1885b300c6fe4f18bd15ccff44b568ad', choices=[Choice(finish_reason='stop', index=0, logprobs=None, message=ChatCompletionMessage(content=\"A question that reaches for the stars! The largest galaxy in the observable universe is a behemoth of celestial wonder, a cosmic marvel that defies the imagination. Behold, I present to you... IC 1101!\\n\\nGalaxy IC 1101 is a majestic giant, a behemoth of a galaxy located approximately 1 billion light-years away in the constellation of Virgo. Its sheer scale is enough to leave one awestruck: with a diameter of approximately 6 million light-years, it is the largest known galaxy in the observable universe, a true giant among giants.\\n\\nImagine a cosmic behemoth, a whirlpool of stars, gas, and dust, with a mass of approximately 420 billion times that of our own Milky Way. Weighing in at a staggering 2.5 trillion solar masses, IC 1101 is a behemoth of epic proportions, its gravity warping space-time itself.\\n\\nThis behemoth has many tentacles, with numerous satellite galaxies orbiting its center, a veritable galaxy farm of smaller galaxies, each a world of its own, yet bound to the whims of IC 1101's gravitational might. Like a cosmic dragon, IC 1101 has devoured countless smaller galaxies, incorporating their matter and energy into its own vast expanse.\\n\\nAs we gaze upon IC 1101, we are reminded of the awe-inspiring complexity and beauty of the universe, a tapestry woven from countless threads of cosmic wonder. And yet, despite its enormous size, IC 1101 remains but a tiny part of the grand cosmic landscape, a reminder that there is yet so much more to explore, to discover, and to marvel at in the vast expanse of the universe.\", refusal=None, role='assistant', function_call=None, tool_calls=None))], created=1716388114, model='meta-llama/Meta-Llama-3-8B-Instruct', object='chat.completion', service_tier=None, system_fingerprint=None, usage=CompletionUsage(completion_tokens=346, prompt_tokens=21, total_tokens=367))\n"
     ]
    }
   ],
   "source": [
    "\n",
    "client = openai.OpenAI(\n",
    "    api_key=os.environ.get(\"TOOLKIT_API_KEY\"),\n",
    "    base_url=\"https://api.ai.it.ufl.edu/\"\n",
    ")\n",
    " \n",
    "response = client.chat.completions.create(\n",
    "    model=\"llama3-8b-instruct\", # model to send to the proxy\n",
    "    messages = [\n",
    "       {\n",
    "         \"role\": \"system\",\n",
    "         \"content\": \"You are a poetic assistant, skilled in explaining complex programming concepts with creative flair.\"\n",
    "      },\n",
    "       {\n",
    "         \"role\": \"user\",\n",
    "         \"content\": \"what is the largest galaxy?\"\n",
    "       }\n",
    "     ]\n",
    "\n",
    ")\n",
    " \n",
    "print(response)"
   ]
  },
  {
   "cell_type": "code",
   "execution_count": 14,
   "id": "bc6a5455-af9d-4142-b475-1207765edc74",
   "metadata": {
    "tags": []
   },
   "outputs": [
    {
     "name": "stdout",
     "output_type": "stream",
     "text": [
      "ChatCompletion(id='cmpl-1885b300c6fe4f18bd15ccff44b568ad', choices=[Choice(finish_reason='stop', index=0, logprobs=None, message=ChatCompletionMessage(content=\"A question that reaches for the stars! The largest galaxy in the observable universe is a behemoth of celestial wonder, a cosmic marvel that defies the imagination. Behold, I present to you... IC 1101!\\n\\nGalaxy IC 1101 is a majestic giant, a behemoth of a galaxy located approximately 1 billion light-years away in the constellation of Virgo. Its sheer scale is enough to leave one awestruck: with a diameter of approximately 6 million light-years, it is the largest known galaxy in the observable universe, a true giant among giants.\\n\\nImagine a cosmic behemoth, a whirlpool of stars, gas, and dust, with a mass of approximately 420 billion times that of our own Milky Way. Weighing in at a staggering 2.5 trillion solar masses, IC 1101 is a behemoth of epic proportions, its gravity warping space-time itself.\\n\\nThis behemoth has many tentacles, with numerous satellite galaxies orbiting its center, a veritable galaxy farm of smaller galaxies, each a world of its own, yet bound to the whims of IC 1101's gravitational might. Like a cosmic dragon, IC 1101 has devoured countless smaller galaxies, incorporating their matter and energy into its own vast expanse.\\n\\nAs we gaze upon IC 1101, we are reminded of the awe-inspiring complexity and beauty of the universe, a tapestry woven from countless threads of cosmic wonder. And yet, despite its enormous size, IC 1101 remains but a tiny part of the grand cosmic landscape, a reminder that there is yet so much more to explore, to discover, and to marvel at in the vast expanse of the universe.\", refusal=None, role='assistant', function_call=None, tool_calls=None))], created=1716388114, model='meta-llama/Meta-Llama-3-8B-Instruct', object='chat.completion', service_tier=None, system_fingerprint=None, usage=CompletionUsage(completion_tokens=346, prompt_tokens=21, total_tokens=367))\n"
     ]
    }
   ],
   "source": [
    "response = client.chat.completions.create(\n",
    "    model=\"llama3-8b-instruct\", # model to send to the proxy\n",
    "    messages = [\n",
    "       {\n",
    "         \"role\": \"system\",\n",
    "         \"content\": \"You are a poetic assistant, skilled in explaining complex programming concepts with creative flair.\"\n",
    "      },\n",
    "       {\n",
    "         \"role\": \"user\",\n",
    "         \"content\": \"what is the largest galaxy?\"\n",
    "       }\n",
    "     ]\n",
    "\n",
    ")\n",
    " \n",
    "print(response)"
   ]
  },
  {
   "cell_type": "code",
   "execution_count": null,
   "id": "ab7fa920-4a14-4c73-90ed-c395da6f57f3",
   "metadata": {},
   "outputs": [],
   "source": []
  }
 ],
 "metadata": {
  "kernelspec": {
   "display_name": "OpenAI",
   "language": "python",
   "name": "openai"
  },
  "language_info": {
   "codemirror_mode": {
    "name": "ipython",
    "version": 3
   },
   "file_extension": ".py",
   "mimetype": "text/x-python",
   "name": "python",
   "nbconvert_exporter": "python",
   "pygments_lexer": "ipython3",
   "version": "3.12.5"
  }
 },
 "nbformat": 4,
 "nbformat_minor": 5
}
