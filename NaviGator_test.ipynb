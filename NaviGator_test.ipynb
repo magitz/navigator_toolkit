{
 "cells": [
  {
   "cell_type": "markdown",
   "id": "ff19f495-59af-474f-a381-d7d78ad4a570",
   "metadata": {},
   "source": [
    "\n",
    "# NaviGator Toolkit API test\n",
    "\n",
    "This notebook is designed to test connection to the NaviGator toolkit. You will need a NaviGator API key. The key should be stored in a `.json` file with the following format:\n",
    "\n",
    "    {\n",
    "      \"OPENAI_API_KEY\" : \"Put your key here in the quotes\",\n",
    "      \"base_url\" : \"https://api.ai.it.ufl.edu/\"\n",
    "    }\n"
   ]
  },
  {
   "cell_type": "code",
   "execution_count": 2,
   "id": "9ba376d4-d4f1-4e48-a7c0-3ca4a7c144c0",
   "metadata": {
    "tags": []
   },
   "outputs": [],
   "source": [
    "import openai\n",
    "import os\n",
    "import json"
   ]
  },
  {
   "cell_type": "markdown",
   "id": "b0742a36-ccf5-4d0c-9c71-f2ba7b7735cb",
   "metadata": {},
   "source": [
    "## Load `.json` file with your key and api endpoint URL"
   ]
  },
  {
   "cell_type": "code",
   "execution_count": 5,
   "id": "a1742595-a563-4065-be5a-2b08107bdbe1",
   "metadata": {
    "tags": []
   },
   "outputs": [],
   "source": [
    "# Set the path to your jsnkey file\n",
    "key_file = '/home/magitz/navigator_api_keys.json'\n",
    "\n",
    "\n",
    "# Load the JSON file\n",
    "with open(key_file, 'r') as file:\n",
    "    data = json.load(file)\n",
    "\n",
    "# Extract the values\n",
    "OPENAI_API_KEY = data.get('OPENAI_API_KEY')\n",
    "base_url = data.get('base_url')\n",
    "\n",
    "# Set the environment variable\n",
    "os.environ['TOOLKIT_API_KEY'] = OPENAI_API_KEY\n"
   ]
  },
  {
   "cell_type": "markdown",
   "id": "05900196-4d7d-4dea-8b6a-9c119bfd3035",
   "metadata": {},
   "source": [
    "## Test connectivity and get model list\n",
    "\n",
    "Reply should list the models that are available with your API key. An example, truncated, output is:\n",
    "\n",
    "    SyncPage[Model](data=[Model(id='llama-3.1-70b-instruct', created=1677610602, object='model', owned_by='openai'), Model(id='sfr-embedding-mistral', created=1677610602, object='model', owned_by='openai'),...)], object='list')"
   ]
  },
  {
   "cell_type": "code",
   "execution_count": 4,
   "id": "2ea3baa5-eea7-46f3-aa91-753907b44ad7",
   "metadata": {
    "tags": []
   },
   "outputs": [
    {
     "name": "stdout",
     "output_type": "stream",
     "text": [
      "SyncPage[Model](data=[Model(id='llama-3.1-70b-instruct', created=1677610602, object='model', owned_by='openai'), Model(id='sfr-embedding-mistral', created=1677610602, object='model', owned_by='openai'), Model(id='llama-3.1-8b-instruct', created=1677610602, object='model', owned_by='openai'), Model(id='mixtral-8x7b-instruct', created=1677610602, object='model', owned_by='openai'), Model(id='flux.1-schnell', created=1677610602, object='model', owned_by='openai'), Model(id='mistral-7b-instruct', created=1677610602, object='model', owned_by='openai'), Model(id='whisper-large-v3', created=1677610602, object='model', owned_by='openai'), Model(id='flux.1-dev', created=1677610602, object='model', owned_by='openai'), Model(id='codestral-22b', created=1677610602, object='model', owned_by='openai'), Model(id='gte-large-en-v1.5', created=1677610602, object='model', owned_by='openai'), Model(id='nomic-embed-text-v1.5', created=1677610602, object='model', owned_by='openai')], object='list')\n"
     ]
    }
   ],
   "source": [
    "# Check list of available models\n",
    "client = openai.OpenAI(\n",
    "    api_key=os.environ.get(\"TOOLKIT_API_KEY\"),\n",
    "    base_url=base_url\n",
    ")\n",
    "\n",
    "response = client.models.list()\n",
    " \n",
    "print(response)"
   ]
  },
  {
   "cell_type": "markdown",
   "id": "24f4cac6-0d83-4a2d-ae59-97c7dfba8a6e",
   "metadata": {},
   "source": [
    "## Test model completion\n",
    "\n",
    "You may need to update the model from the list above as the available models change over time."
   ]
  },
  {
   "cell_type": "code",
   "execution_count": 6,
   "id": "bc1c6dca-b4ed-4529-ae65-4f475fd18f5f",
   "metadata": {},
   "outputs": [
    {
     "name": "stdout",
     "output_type": "stream",
     "text": [
      "ChatCompletion(id='chat-644e583f079c4c33a1e95480caca4f99', choices=[Choice(finish_reason='stop', index=0, logprobs=None, message=ChatCompletionMessage(content=\"Here's a short poem about ice cream:\\n\\nA cone in my hand, oh so sweet,\\nA treat that can't be beat.\\nThe flavors dance on my tongue so bright,\\nA delightful treat on a summer night.\\n\\nThe colors and sprinkles, a joyful sight,\\nA smile on my face, pure delight.\\nThe cold and creamy texture, a pleasure to share,\\nA sweet indulgence, beyond compare.\\n\\nSo here's to ice cream, a treat so fine,\\nA sweet escape, that's simply divine.\", refusal=None, role='assistant', function_call=None, tool_calls=None))], created=1739560733, model='meta-llama/Llama-3.1-70B-Instruct', object='chat.completion', service_tier=None, system_fingerprint=None, usage=CompletionUsage(completion_tokens=104, prompt_tokens=45, total_tokens=149, completion_tokens_details=None, prompt_tokens_details=None), prompt_logprobs=None)\n"
     ]
    }
   ],
   "source": [
    "# Set model from list above\n",
    "model = \"llama-3.1-70b-instruct\"\n",
    "\n",
    "response = client.chat.completions.create(\n",
    "    model=model,\n",
    "    messages = [\n",
    "        {\n",
    "            \"role\": \"user\",\n",
    "            \"content\": \"Write a short poem about somethign fun.\"\n",
    "        }\n",
    "    ]\n",
    ")\n",
    " \n",
    "print(response)\n"
   ]
  },
  {
   "cell_type": "code",
   "execution_count": 20,
   "id": "0e759c8e-9de9-454a-b796-1d5240139d13",
   "metadata": {
    "tags": []
   },
   "outputs": [
    {
     "name": "stdout",
     "output_type": "stream",
     "text": [
      "Here's a short poem about ice cream:\n",
      "\n",
      "A cone in my hand, oh so sweet,\n",
      "A treat that can't be beat.\n",
      "The flavors dance on my tongue so bright,\n",
      "A delightful treat on a summer night.\n",
      "\n",
      "The colors and sprinkles, a joyful sight,\n",
      "A smile on my face, pure delight.\n",
      "The cold and creamy texture, a pleasure to share,\n",
      "A sweet indulgence, beyond compare.\n",
      "\n",
      "So here's to ice cream, a treat so fine,\n",
      "A sweet escape, that's simply divine.\n"
     ]
    }
   ],
   "source": [
    "# Print nicely formatted message\n",
    "\n",
    "print(response.choices[0].message.content)"
   ]
  },
  {
   "cell_type": "markdown",
   "id": "f5992cae-bcac-4389-8358-71dfa1dd6a04",
   "metadata": {
    "tags": []
   },
   "source": [
    "## Test seding a system prompt and cotent"
   ]
  },
  {
   "cell_type": "code",
   "execution_count": 23,
   "id": "da15e2db-2641-4982-aa55-94f9300ef73c",
   "metadata": {
    "tags": []
   },
   "outputs": [
    {
     "name": "stdout",
     "output_type": "stream",
     "text": [
      "ChatCompletion(id='chat-8390d46392d043099293ed13e1b4eff6', choices=[Choice(finish_reason='stop', index=0, logprobs=None, message=ChatCompletionMessage(content=' In the grand cosmic ballad of the celestial spheres, a tale from afar resonates with a rhythm that captivates our hearts and minds. The largest galaxy, they say, is none other than IC 1101, a titaness of the cosmos, her sprawling arms reaching out to the horizons of the universe itself.\\n\\nLike a skilled weaver, this galaxy spins a web of stars, each twinkling like a single thread in the masterpiece of creation. Its diameter stretches an astounding 6.1 million light years, a measure as vast as the human imagination can fathom.\\n\\nYet, as we gaze upon IC 1101, we are but humble observers, peering through the telescope of time to witness the eternal dance of the stars, a dance that speaks not only of our origins, but of the inescapable interconnectedness of all things.\\n\\nIn the grand tapestry of the universe, IC 1101 serves as a poignant reminder of our place in the cosmic ballet, each of us but a single star in the vast expanse of time and space. But fear not, for as we continue to explore this celestial canvas, we find not only the answers to our questions, but also the inspiration to keep asking them, for the universe is a mystery that continues to unfold with each passing moment.\\n\\nSo let us marvel at the majesty of IC 1101, the largest galaxy, and let her story serve as a reminder of the awe-inspiring beauty and complexity of the cosmos that surrounds us, calling us to look up, to wonder, and to reach ever higher in our pursuit of knowledge and understanding.', refusal=None, role='assistant', function_call=None, tool_calls=None))], created=1739561551, model='mistralai/Mistral-7B-Instruct-v0.3', object='chat.completion', service_tier=None, system_fingerprint=None, usage=CompletionUsage(completion_tokens=379, prompt_tokens=29, total_tokens=408, completion_tokens_details=None, prompt_tokens_details=None), prompt_logprobs=None)\n"
     ]
    }
   ],
   "source": [
    "# Set model from list above\n",
    "model = 'mistral-7b-instruct'\n",
    "\n",
    "response = client.chat.completions.create(\n",
    "    model=model, # model to send to the proxy\n",
    "    messages = [\n",
    "       {\n",
    "         \"role\": \"system\",\n",
    "         \"content\": \"You are a poetic assistant, skilled in explaining complex programming concepts with creative flair.\"\n",
    "      },\n",
    "       {\n",
    "         \"role\": \"user\",\n",
    "         \"content\": \"what is the largest galaxy?\"\n",
    "       }\n",
    "     ]\n",
    "\n",
    ")\n",
    " \n",
    "print(response)"
   ]
  },
  {
   "cell_type": "code",
   "execution_count": 24,
   "id": "ce369b19-2af3-4f85-a402-406330349fbb",
   "metadata": {
    "tags": []
   },
   "outputs": [
    {
     "name": "stdout",
     "output_type": "stream",
     "text": [
      " In the grand cosmic ballad of the celestial spheres, a tale from afar resonates with a rhythm that captivates our hearts and minds. The largest galaxy, they say, is none other than IC 1101, a titaness of the cosmos, her sprawling arms reaching out to the horizons of the universe itself.\n",
      "\n",
      "Like a skilled weaver, this galaxy spins a web of stars, each twinkling like a single thread in the masterpiece of creation. Its diameter stretches an astounding 6.1 million light years, a measure as vast as the human imagination can fathom.\n",
      "\n",
      "Yet, as we gaze upon IC 1101, we are but humble observers, peering through the telescope of time to witness the eternal dance of the stars, a dance that speaks not only of our origins, but of the inescapable interconnectedness of all things.\n",
      "\n",
      "In the grand tapestry of the universe, IC 1101 serves as a poignant reminder of our place in the cosmic ballet, each of us but a single star in the vast expanse of time and space. But fear not, for as we continue to explore this celestial canvas, we find not only the answers to our questions, but also the inspiration to keep asking them, for the universe is a mystery that continues to unfold with each passing moment.\n",
      "\n",
      "So let us marvel at the majesty of IC 1101, the largest galaxy, and let her story serve as a reminder of the awe-inspiring beauty and complexity of the cosmos that surrounds us, calling us to look up, to wonder, and to reach ever higher in our pursuit of knowledge and understanding.\n"
     ]
    }
   ],
   "source": [
    "# Print nicely formatted message\n",
    "\n",
    "print(response.choices[0].message.content)"
   ]
  },
  {
   "cell_type": "code",
   "execution_count": null,
   "id": "ab7fa920-4a14-4c73-90ed-c395da6f57f3",
   "metadata": {},
   "outputs": [],
   "source": []
  }
 ],
 "metadata": {
  "kernelspec": {
   "display_name": "OpenAI",
   "language": "python",
   "name": "openai"
  },
  "language_info": {
   "codemirror_mode": {
    "name": "ipython",
    "version": 3
   },
   "file_extension": ".py",
   "mimetype": "text/x-python",
   "name": "python",
   "nbconvert_exporter": "python",
   "pygments_lexer": "ipython3",
   "version": "3.12.5"
  }
 },
 "nbformat": 4,
 "nbformat_minor": 5
}
